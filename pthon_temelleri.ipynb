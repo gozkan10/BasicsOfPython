{
 "cells": [
  {
   "cell_type": "code",
   "execution_count": 1,
   "metadata": {},
   "outputs": [
    {
     "name": "stdout",
     "output_type": "stream",
     "text": [
      " \n"
     ]
    }
   ],
   "source": [
    "print(\" \")"
   ]
  },
  {
   "cell_type": "markdown",
   "metadata": {},
   "source": []
  },
  {
   "cell_type": "markdown",
   "metadata": {},
   "source": [
    "## Veri Tipleri"
   ]
  },
  {
   "cell_type": "markdown",
   "metadata": {},
   "source": [
    "* int\n",
    "* float\n",
    "* string\n",
    "* bool"
   ]
  },
  {
   "cell_type": "code",
   "execution_count": 2,
   "metadata": {},
   "outputs": [
    {
     "name": "stdout",
     "output_type": "stream",
     "text": [
      "Integer veri tipi <class 'int'>\n",
      "float veri tipi <class 'float'>\n",
      "string veri tipi <class 'str'>\n",
      "bool veri tipi <class 'bool'>\n"
     ]
    }
   ],
   "source": [
    "print(\"Integer veri tipi\", type(2313))\n",
    "print(\"float veri tipi\", type(23.13))\n",
    "print(\"string veri tipi\", type(\"gorkem\"))\n",
    "print(\"bool veri tipi\", type(True))"
   ]
  },
  {
   "cell_type": "markdown",
   "metadata": {},
   "source": [
    "## Matematiksel işlemler"
   ]
  },
  {
   "cell_type": "code",
   "execution_count": 18,
   "metadata": {},
   "outputs": [
    {
     "name": "stdout",
     "output_type": "stream",
     "text": [
      "6\n",
      "5\n",
      "0.6666666666666666\n",
      "-1\n",
      "<class 'float'>\n",
      "<class 'int'>\n",
      "<class 'int'>\n"
     ]
    }
   ],
   "source": [
    "print(2*3)\n",
    "print(2+3)\n",
    "print(2/3)\n",
    "print(2-3)\n",
    "\n",
    "print(type(2/3))\n",
    "print(type(2*3))\n",
    "print(type(2*3))  \n"
   ]
  },
  {
   "cell_type": "code",
   "execution_count": 14,
   "metadata": {},
   "outputs": [
    {
     "name": "stdout",
     "output_type": "stream",
     "text": [
      "68\n"
     ]
    }
   ],
   "source": [
    "deger1 = 23\n",
    "deger2 = 45\n",
    "\n",
    "print(deger1+deger2)"
   ]
  },
  {
   "cell_type": "markdown",
   "metadata": {},
   "source": [
    "## Veri türleri"
   ]
  },
  {
   "cell_type": "markdown",
   "metadata": {},
   "source": [
    "* liste\n",
    "* Sözlükler\n",
    "* tuple\n",
    "* Set\n"
   ]
  },
  {
   "cell_type": "markdown",
   "metadata": {},
   "source": [
    "## Liste"
   ]
  },
  {
   "cell_type": "markdown",
   "metadata": {},
   "source": [
    "Listeler süper esnektir, aynı tuplelar da olduğu gibi diğer veri tiplerinin birleşimden oluşurlar ancak üzerlerinde **değişiklik yapmamıza izin verirler**.\n",
    "\n",
    "> **Önemli Not:** Listelerin Köşeli parantezler ile gösterildiğine dikkat edin!"
   ]
  },
  {
   "cell_type": "code",
   "execution_count": 35,
   "metadata": {},
   "outputs": [
    {
     "data": {
      "text/plain": [
       "['gorkem', 'grkm', True, 23, 45.4]"
      ]
     },
     "execution_count": 35,
     "metadata": {},
     "output_type": "execute_result"
    }
   ],
   "source": [
    "ilk_liste = [\"gorkem\",\"grkm\",True,23,45.4 ] \n",
    "ilk_liste"
   ]
  },
  {
   "cell_type": "code",
   "execution_count": 36,
   "metadata": {},
   "outputs": [
    {
     "data": {
      "text/plain": [
       "['gorkem', 'grkm', True, 23, 45.4, [85, 69, 61, [589, 879]]]"
      ]
     },
     "execution_count": 36,
     "metadata": {},
     "output_type": "execute_result"
    }
   ],
   "source": [
    "ilk_liste = [\"gorkem\",\"grkm\",True,23,45.4,[85,69,61,[589,879]]] \n",
    "ilk_liste"
   ]
  },
  {
   "cell_type": "code",
   "execution_count": 37,
   "metadata": {},
   "outputs": [
    {
     "name": "stdout",
     "output_type": "stream",
     "text": [
      "gorkem\n",
      "45.4\n",
      "True\n",
      "6\n",
      "85\n",
      "69\n"
     ]
    }
   ],
   "source": [
    "print(ilk_liste[0])\n",
    "print(ilk_liste[4]) \n",
    "print(ilk_liste[2])\n",
    "# len listenin içinde kaç terim olduğunu gösterir yazılım dillerinde terim sayısı saymaya sıfırdan başlarız\n",
    "print(len(ilk_liste))  \n",
    "print(ilk_liste[5][0])\n",
    "print(ilk_liste[5][1])\n",
    "\n"
   ]
  },
  {
   "cell_type": "code",
   "execution_count": 38,
   "metadata": {},
   "outputs": [
    {
     "data": {
      "text/plain": [
       "[12, 'grkm', True, 23, 45.4, [85, 69, 61, [589, 879]]]"
      ]
     },
     "execution_count": 38,
     "metadata": {},
     "output_type": "execute_result"
    }
   ],
   "source": [
    "ilk_liste [0] = 12\n",
    "ilk_liste"
   ]
  },
  {
   "cell_type": "code",
   "execution_count": 39,
   "metadata": {},
   "outputs": [
    {
     "data": {
      "text/plain": [
       "[12, 122, True, 23, 45.4, [85, 69, 61, [589, 879]]]"
      ]
     },
     "execution_count": 39,
     "metadata": {},
     "output_type": "execute_result"
    }
   ],
   "source": [
    "ilk_liste [1] = 122\n",
    "ilk_liste"
   ]
  },
  {
   "cell_type": "markdown",
   "metadata": {},
   "source": [
    "* Sona Veri Ekleme (append)\n",
    "* Belirlediğimiz İndexe Veri Ekleme (insert)\n",
    "* Belirlediğimiz İndexe Veri Silme (pop) \n",
    "* Verdiğimiz Değer Veri Silme (remove)"
   ]
  },
  {
   "cell_type": "markdown",
   "metadata": {},
   "source": [
    "# Append\n"
   ]
  },
  {
   "cell_type": "code",
   "execution_count": 40,
   "metadata": {},
   "outputs": [],
   "source": [
    "# Append sona veri ekleme işine yarıyor\n",
    "ilk_liste.append(12)"
   ]
  },
  {
   "cell_type": "code",
   "execution_count": 41,
   "metadata": {},
   "outputs": [
    {
     "data": {
      "text/plain": [
       "[12, 122, True, 23, 45.4, [85, 69, 61, [589, 879]], 12]"
      ]
     },
     "execution_count": 41,
     "metadata": {},
     "output_type": "execute_result"
    }
   ],
   "source": [
    "ilk_liste"
   ]
  },
  {
   "cell_type": "code",
   "execution_count": 42,
   "metadata": {},
   "outputs": [
    {
     "data": {
      "text/plain": [
       "[12, 122, True, 23, 45.4, [85, 69, 61, [589, 879]], 12, 'gorkem']"
      ]
     },
     "execution_count": 42,
     "metadata": {},
     "output_type": "execute_result"
    }
   ],
   "source": [
    "ilk_liste.append(\"gorkem\")\n",
    "ilk_liste"
   ]
  },
  {
   "cell_type": "markdown",
   "metadata": {},
   "source": [
    "# İnsert\n"
   ]
  },
  {
   "cell_type": "code",
   "execution_count": 43,
   "metadata": {},
   "outputs": [
    {
     "data": {
      "text/plain": [
       "[12, 122, 29, True, 23, 45.4, [85, 69, 61, [589, 879]], 12, 'gorkem']"
      ]
     },
     "execution_count": 43,
     "metadata": {},
     "output_type": "execute_result"
    }
   ],
   "source": [
    "# İnsert değerler arasında istediğimiz yere değer verme işine yarar\n",
    "ilk_liste.insert(2,29)\n",
    "ilk_liste"
   ]
  },
  {
   "cell_type": "markdown",
   "metadata": {},
   "source": [
    "# Pop"
   ]
  },
  {
   "cell_type": "code",
   "execution_count": 44,
   "metadata": {},
   "outputs": [
    {
     "data": {
      "text/plain": [
       "[12, 122, 29, True, 23, 45.4, [85, 69, 61, [589, 879]], 12]"
      ]
     },
     "execution_count": 44,
     "metadata": {},
     "output_type": "execute_result"
    }
   ],
   "source": [
    "# Pop değerleri silme işine yarar parantez içine değer vermezsek sondaki değeri siler ama içine bir değer verirsek verdiğimiz değerde ki yeri siler \n",
    "ilk_liste.pop()\n",
    "ilk_liste"
   ]
  },
  {
   "cell_type": "code",
   "execution_count": 45,
   "metadata": {},
   "outputs": [
    {
     "data": {
      "text/plain": [
       "[12, 29, 122, 29, True, 23, 45.4, [85, 69, 61, [589, 879]], 12]"
      ]
     },
     "execution_count": 45,
     "metadata": {},
     "output_type": "execute_result"
    }
   ],
   "source": [
    "ilk_liste.insert(1,29)\n",
    "ilk_liste"
   ]
  },
  {
   "cell_type": "markdown",
   "metadata": {},
   "source": []
  },
  {
   "cell_type": "markdown",
   "metadata": {},
   "source": [
    "# Remove"
   ]
  },
  {
   "cell_type": "code",
   "execution_count": 46,
   "metadata": {},
   "outputs": [
    {
     "data": {
      "text/plain": [
       "[12, 29, 122, 29, True, 23, 45.4, [85, 69, 61, [589, 879]], 12]"
      ]
     },
     "execution_count": 46,
     "metadata": {},
     "output_type": "execute_result"
    }
   ],
   "source": [
    "# Remove soldan sağa başlayarak verdiğimiz değeri silme işine yarar\n",
    "ilk_liste"
   ]
  },
  {
   "cell_type": "code",
   "execution_count": 47,
   "metadata": {},
   "outputs": [
    {
     "data": {
      "text/plain": [
       "[12, 122, 29, True, 23, 45.4, [85, 69, 61, [589, 879]], 12]"
      ]
     },
     "execution_count": 47,
     "metadata": {},
     "output_type": "execute_result"
    }
   ],
   "source": [
    "ilk_liste.remove(29)\n",
    "ilk_liste"
   ]
  },
  {
   "cell_type": "markdown",
   "metadata": {},
   "source": [
    "Peki ya birden fazla elemanı almak istersem? \n",
    " - İşte o zaman verinin o kısmını ayırmam lazım.\n",
    "\n",
    " Python Slicing: \n",
    "\n",
    " '''python \n",
    " # Slicing Yapısı\n",
    " ayrılacak_değişkenin_ismi[başlangıç_index : bitiş_index : atlama_sayısı]\n",
    " '''\n",
    " > **Önemli Not :** İndex sayıları belirtilirken bailangıç_index olarak belirttiğimiz index dahil edilirken, bitiş_index dahil edilmez!"
   ]
  },
  {
   "cell_type": "code",
   "execution_count": 48,
   "metadata": {},
   "outputs": [
    {
     "data": {
      "text/plain": [
       "[122, 29, True]"
      ]
     },
     "execution_count": 48,
     "metadata": {},
     "output_type": "execute_result"
    }
   ],
   "source": [
    "ilk_liste[1:4]"
   ]
  },
  {
   "cell_type": "code",
   "execution_count": 17,
   "metadata": {},
   "outputs": [
    {
     "data": {
      "text/plain": [
       "[122, 29, True, 23]"
      ]
     },
     "execution_count": 17,
     "metadata": {},
     "output_type": "execute_result"
    }
   ],
   "source": [
    "yeni_liste = ilk_liste[1:5]\n",
    "yeni_liste"
   ]
  },
  {
   "cell_type": "code",
   "execution_count": 18,
   "metadata": {},
   "outputs": [
    {
     "data": {
      "text/plain": [
       "[122, True]"
      ]
     },
     "execution_count": 18,
     "metadata": {},
     "output_type": "execute_result"
    }
   ],
   "source": [
    "ilk_liste[1:5:2]"
   ]
  },
  {
   "cell_type": "code",
   "execution_count": 29,
   "metadata": {},
   "outputs": [
    {
     "data": {
      "text/plain": [
       "[122, True, 45.4]"
      ]
     },
     "execution_count": 29,
     "metadata": {},
     "output_type": "execute_result"
    }
   ],
   "source": [
    "ilk_liste[1:6:2]"
   ]
  },
  {
   "cell_type": "code",
   "execution_count": 32,
   "metadata": {},
   "outputs": [
    {
     "data": {
      "text/plain": [
       "[12, [85, 69, 61, [589, 879]], 45.4, 23, True, 29, 122, 12]"
      ]
     },
     "execution_count": 32,
     "metadata": {},
     "output_type": "execute_result"
    }
   ],
   "source": [
    "# bu şekilde iki tane iki nokta üst üste kullanırsak ve sonuna -1 koyarsak dizilişi tersten saymaya başlar \n",
    "ilk_liste[::-1]"
   ]
  },
  {
   "cell_type": "code",
   "execution_count": 33,
   "metadata": {},
   "outputs": [
    {
     "data": {
      "text/plain": [
       "[12, 'gorkem', 29, True, 23, 45.4, [85, 69, 61, [589, 879]], 12]"
      ]
     },
     "execution_count": 33,
     "metadata": {},
     "output_type": "execute_result"
    }
   ],
   "source": [
    "ilk_liste[1]=\"gorkem\"\n",
    "ilk_liste"
   ]
  },
  {
   "cell_type": "markdown",
   "metadata": {},
   "source": [
    "# Tuple"
   ]
  },
  {
   "cell_type": "code",
   "execution_count": 34,
   "metadata": {},
   "outputs": [
    {
     "data": {
      "text/plain": [
       "('Ankara', 'londra', 'Madrid', 'Moskova')"
      ]
     },
     "execution_count": 34,
     "metadata": {},
     "output_type": "execute_result"
    }
   ],
   "source": [
    "# Tuple de bir değer verdiğimiz zaman onu kaldırmayız değiştiremeyiz içerdeki değere dokunamayız bir güvenlik olarak düşünebiliriz\n",
    "baskentler = (\"Ankara\" , \"londra\" , \"Madrid\" , \"Moskova\")\n",
    "baskentler"
   ]
  },
  {
   "cell_type": "code",
   "execution_count": 35,
   "metadata": {},
   "outputs": [
    {
     "data": {
      "text/plain": [
       "tuple"
      ]
     },
     "execution_count": 35,
     "metadata": {},
     "output_type": "execute_result"
    }
   ],
   "source": [
    "type(baskentler)"
   ]
  },
  {
   "cell_type": "code",
   "execution_count": 36,
   "metadata": {},
   "outputs": [
    {
     "name": "stdout",
     "output_type": "stream",
     "text": [
      "londra\n",
      "Ankara\n"
     ]
    }
   ],
   "source": [
    "print(baskentler[1])\n",
    "print(baskentler[0])"
   ]
  },
  {
   "cell_type": "code",
   "execution_count": 37,
   "metadata": {},
   "outputs": [],
   "source": [
    "# baskentler[1]=\"aaa\""
   ]
  },
  {
   "cell_type": "markdown",
   "metadata": {},
   "source": [
    "# Set"
   ]
  },
  {
   "cell_type": "code",
   "execution_count": 38,
   "metadata": {},
   "outputs": [
    {
     "data": {
      "text/plain": [
       "{1, 2, 3, 4, 5, 6, 8, 9}"
      ]
     },
     "execution_count": 38,
     "metadata": {},
     "output_type": "execute_result"
    }
   ],
   "source": [
    "# Set yapısı listenin içindeki aynı olan değerleri sadeleştirip bir değerden bir tane olacak şekilde sıralar \n",
    "deneme_liste = [1,1,1,2,2,2,3,3,3,4,4,4,4,4,5,5,5,5,6,6,8,8,9,9,9,9,9] \n",
    "deneme_set = set(deneme_liste)\n",
    "deneme_set"
   ]
  },
  {
   "cell_type": "code",
   "execution_count": 42,
   "metadata": {},
   "outputs": [
    {
     "data": {
      "text/plain": [
       "{'ahmet', 'gorkem', 'özkan'}"
      ]
     },
     "execution_count": 42,
     "metadata": {},
     "output_type": "execute_result"
    }
   ],
   "source": [
    "# Benim tasarımım :))\n",
    "deneme_liste1 = [\"gorkem\",\"gorkem\",\"gorkem\",\"ahmet\",\"ahmet\",\"özkan\",\"özkan\",]\n",
    "deneme_set = set(deneme_liste1)\n",
    "deneme_set"
   ]
  },
  {
   "cell_type": "code",
   "execution_count": 43,
   "metadata": {},
   "outputs": [
    {
     "data": {
      "text/plain": [
       "set"
      ]
     },
     "execution_count": 43,
     "metadata": {},
     "output_type": "execute_result"
    }
   ],
   "source": [
    "type(deneme_set)"
   ]
  },
  {
   "cell_type": "markdown",
   "metadata": {},
   "source": [
    "## Sözlükler (Dictionaries)"
   ]
  },
  {
   "cell_type": "markdown",
   "metadata": {},
   "source": [
    "Şu anda işlememiz gereken son ana veri tipimiz sözlüklerdir. Sözlükler şu ana kadar öğrendiğimiz veri tiplerinden farklı olarak \"gruplara\" sahip olmamızı sağlar, ancak indexe göre çalışmak yerine **Key/Value (Anahtar/Değer)** çiftlerini kullanırlar. Bunun bazı önemli faydaları var, ancak öncesinde nasıl çalıştığını görelim.\n",
    "\n",
    "> **Önemli Not:** Sözlükler de küme parantezleriyle gösterilir, ancak bir set olarak algılanmaları için **Key ve Value** değerlerinden oluşması gerekir."
   ]
  },
  {
   "cell_type": "code",
   "execution_count": 72,
   "metadata": {},
   "outputs": [
    {
     "data": {
      "text/plain": [
       "{'isim': 'gorkem',\n",
       " 'soyad': 'ozkan',\n",
       " 'yas': '19',\n",
       " 'alanlar': ['DE', 'DS', 'MLOps'],\n",
       " 'referanslar': {'ref1': 'Haydogmus',\n",
       "  'ref2': 'İbayraktar',\n",
       "  'basarılar': {'adsa': 23}}}"
      ]
     },
     "execution_count": 72,
     "metadata": {},
     "output_type": "execute_result"
    }
   ],
   "source": [
    "deneme_dict = {\n",
    "    \"isim\":\"gorkem\",\n",
    "    \"soyad\":\"ozkan\",\n",
    "    \"yas\":\"19\",\n",
    "    \"alanlar\":[\"DE\",\"DS\",\"MLOps\"],\n",
    "    \"referanslar\":{\n",
    "        \"ref1\": \"Haydogmus\",\n",
    "        \"ref2\": \"İbayraktar\",\n",
    "        \"basarılar\":{\n",
    "            \"adsa\":23\n",
    "        }\n",
    "    },\n",
    "}\n",
    "deneme_dict"
   ]
  },
  {
   "cell_type": "code",
   "execution_count": 54,
   "metadata": {},
   "outputs": [
    {
     "data": {
      "text/plain": [
       "dict"
      ]
     },
     "execution_count": 54,
     "metadata": {},
     "output_type": "execute_result"
    }
   ],
   "source": [
    "type(deneme_dict)"
   ]
  },
  {
   "cell_type": "code",
   "execution_count": 58,
   "metadata": {},
   "outputs": [
    {
     "data": {
      "text/plain": [
       "'gorkem'"
      ]
     },
     "execution_count": 58,
     "metadata": {},
     "output_type": "execute_result"
    }
   ],
   "source": [
    "deneme_dict[\"isim\"]"
   ]
  },
  {
   "cell_type": "code",
   "execution_count": 59,
   "metadata": {},
   "outputs": [
    {
     "data": {
      "text/plain": [
       "'ozkan'"
      ]
     },
     "execution_count": 59,
     "metadata": {},
     "output_type": "execute_result"
    }
   ],
   "source": [
    "deneme_dict[\"soyad\"]"
   ]
  },
  {
   "cell_type": "code",
   "execution_count": 60,
   "metadata": {},
   "outputs": [
    {
     "data": {
      "text/plain": [
       "'19'"
      ]
     },
     "execution_count": 60,
     "metadata": {},
     "output_type": "execute_result"
    }
   ],
   "source": [
    "deneme_dict[\"yas\"]"
   ]
  },
  {
   "cell_type": "code",
   "execution_count": 61,
   "metadata": {},
   "outputs": [
    {
     "data": {
      "text/plain": [
       "['DE', 'DS', 'MLOps']"
      ]
     },
     "execution_count": 61,
     "metadata": {},
     "output_type": "execute_result"
    }
   ],
   "source": [
    "deneme_dict[\"alanlar\"]"
   ]
  },
  {
   "cell_type": "code",
   "execution_count": 63,
   "metadata": {},
   "outputs": [
    {
     "data": {
      "text/plain": [
       "{'ref1': 'Haydogmus'}"
      ]
     },
     "execution_count": 63,
     "metadata": {},
     "output_type": "execute_result"
    }
   ],
   "source": [
    "deneme_dict[\"referanslar\"]"
   ]
  },
  {
   "cell_type": "code",
   "execution_count": 69,
   "metadata": {},
   "outputs": [
    {
     "data": {
      "text/plain": [
       "{'ref1': 'Haydogmus', 'ref2': 'İbayraktar'}"
      ]
     },
     "execution_count": 69,
     "metadata": {},
     "output_type": "execute_result"
    }
   ],
   "source": [
    "deneme_dict[\"referanslar\"]"
   ]
  },
  {
   "cell_type": "code",
   "execution_count": 70,
   "metadata": {},
   "outputs": [
    {
     "data": {
      "text/plain": [
       "'Haydogmus'"
      ]
     },
     "execution_count": 70,
     "metadata": {},
     "output_type": "execute_result"
    }
   ],
   "source": [
    "deneme_dict[\"referanslar\"][\"ref1\"]"
   ]
  },
  {
   "cell_type": "code",
   "execution_count": 71,
   "metadata": {},
   "outputs": [
    {
     "data": {
      "text/plain": [
       "'İbayraktar'"
      ]
     },
     "execution_count": 71,
     "metadata": {},
     "output_type": "execute_result"
    }
   ],
   "source": [
    "deneme_dict[\"referanslar\"][\"ref2\"]"
   ]
  },
  {
   "cell_type": "code",
   "execution_count": 73,
   "metadata": {},
   "outputs": [
    {
     "data": {
      "text/plain": [
       "23"
      ]
     },
     "execution_count": 73,
     "metadata": {},
     "output_type": "execute_result"
    }
   ],
   "source": [
    "deneme_dict[\"referanslar\"][\"basarılar\"][\"adsa\"]"
   ]
  },
  {
   "cell_type": "markdown",
   "metadata": {},
   "source": [
    "## Koşullu İfadeler (If / Elif /Else)\n",
    "\n",
    "Gerçek hayatta, genellikle etrafımızdaki bilgileri değerlendiremeli ve ardından gözlemlediklerimize göre hareket tarzı seçmeliyiz.\n",
    "\n",
    "- Hava güzelse dışarı çıkacağım. (Hava güzel değilse dışarı çıkmayacağım anlamına gelir.)\n",
    "\n",
    "Python'da \"if\" yapısı bu tür karar verme seçeneklerini yönetmek için kullanırız. Belirtilen durum gerçeklemesi durumunda bu yöntemi izle, gerçekleşmediği durumlarda ise şu yöntemi izle mantığı vardır. "
   ]
  },
  {
   "cell_type": "markdown",
   "metadata": {},
   "source": [
    "-- Boşluğa Dikkat --\n",
    "  (4 Boşluk)"
   ]
  },
  {
   "cell_type": "code",
   "execution_count": 76,
   "metadata": {},
   "outputs": [
    {
     "data": {
      "text/plain": [
       "True"
      ]
     },
     "execution_count": 76,
     "metadata": {},
     "output_type": "execute_result"
    }
   ],
   "source": [
    "5 > 4"
   ]
  },
  {
   "cell_type": "code",
   "execution_count": 78,
   "metadata": {},
   "outputs": [
    {
     "name": "stdout",
     "output_type": "stream",
     "text": [
      "büyükmüş\n",
      "çıktım\n"
     ]
    }
   ],
   "source": [
    "if 5 > 4 :\n",
    "    print(\"büyükmüş\")\n",
    "print(\"çıktım\")"
   ]
  },
  {
   "cell_type": "code",
   "execution_count": 13,
   "metadata": {},
   "outputs": [
    {
     "name": "stdout",
     "output_type": "stream",
     "text": [
      "çıktım\n"
     ]
    }
   ],
   "source": [
    "# Görmemesinin sebebi 3 4ten küçüktür bu yüzden değerlendirmedi\n",
    "if 3 > 4 :\n",
    "    print(\"büyükmüş\")\n",
    "print(\"çıktım\")"
   ]
  },
  {
   "cell_type": "code",
   "execution_count": 53,
   "metadata": {},
   "outputs": [
    {
     "data": {
      "text/plain": [
       "[12, 122, 29, True, 23, 45.4, [85, 69, 61, [589, 879]], 12]"
      ]
     },
     "execution_count": 53,
     "metadata": {},
     "output_type": "execute_result"
    }
   ],
   "source": [
    "ilk_liste"
   ]
  },
  {
   "cell_type": "code",
   "execution_count": 18,
   "metadata": {},
   "outputs": [
    {
     "name": "stdout",
     "output_type": "stream",
     "text": [
      "5 ten büyükmüş\n"
     ]
    }
   ],
   "source": [
    "if len(ilk_liste) > 25 :\n",
    "    print(\"25 ten büyükmüş\")\n",
    "if len(ilk_liste) > 15: \n",
    "    print(\"15 ten büyükmüş\")\n",
    "if len(ilk_liste) > 5:\n",
    "    print(\"5 ten büyükmüş\")"
   ]
  },
  {
   "cell_type": "code",
   "execution_count": 3,
   "metadata": {},
   "outputs": [
    {
     "name": "stdout",
     "output_type": "stream",
     "text": [
      "5 ten büyükmüş\n"
     ]
    }
   ],
   "source": [
    "if len(ilk_liste) > 25 :\n",
    "    print(\"25 ten büyükmüş\")\n",
    "elif len(ilk_liste) > 15: \n",
    "    print(\"15 ten büyükmüş\")\n",
    "elif len(ilk_liste) > 5:\n",
    "    print(\"5 ten büyükmüş\")\n",
    "else:\n",
    "    print(\"Hiçbiri Değil\") "
   ]
  },
  {
   "cell_type": "code",
   "execution_count": 84,
   "metadata": {},
   "outputs": [
    {
     "name": "stdout",
     "output_type": "stream",
     "text": [
      "Hiçbiri Değil\n"
     ]
    }
   ],
   "source": [
    "if len(ilk_liste) > 25 :\n",
    "    print(\"25 ten büyükmüş\")\n",
    "elif len(ilk_liste) > 15: \n",
    "    print(\"15 ten büyükmüş\")\n",
    "elif len(ilk_liste) > 10: \n",
    "    print(\"10 ten büyükmüş\")\n",
    "else:\n",
    "    print(\"Hiçbiri Değil\") "
   ]
  },
  {
   "cell_type": "code",
   "execution_count": null,
   "metadata": {},
   "outputs": [],
   "source": []
  }
 ],
 "metadata": {
  "kernelspec": {
   "display_name": "Python 3",
   "language": "python",
   "name": "python3"
  },
  "language_info": {
   "codemirror_mode": {
    "name": "ipython",
    "version": 3
   },
   "file_extension": ".py",
   "mimetype": "text/x-python",
   "name": "python",
   "nbconvert_exporter": "python",
   "pygments_lexer": "ipython3",
   "version": "3.11.5"
  },
  "orig_nbformat": 4
 },
 "nbformat": 4,
 "nbformat_minor": 2
}
